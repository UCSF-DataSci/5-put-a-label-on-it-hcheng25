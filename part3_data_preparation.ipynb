{
 "cells": [
  {
   "cell_type": "markdown",
   "id": "c40e038f",
   "metadata": {},
   "source": [
    "# Part 3: Practical Data Preparation\n",
    "\n",
    "**Objective:** Handle categorical features using One-Hot Encoding and address class imbalance using SMOTE.\n",
    "\n",
    "## 1. Setup\n",
    "\n",
    "Import necessary libraries."
   ]
  },
  {
   "cell_type": "code",
   "execution_count": 1,
   "id": "558788a4",
   "metadata": {},
   "outputs": [],
   "source": [
    "import pandas as pd\n",
    "import numpy as np\n",
    "import os\n",
    "from sklearn.model_selection import train_test_split\n",
    "from sklearn.preprocessing import OneHotEncoder\n",
    "from sklearn.linear_model import LogisticRegression\n",
    "from sklearn.metrics import accuracy_score, precision_score, recall_score, f1_score, roc_auc_score, confusion_matrix\n",
    "from sklearn.impute import SimpleImputer\n",
    "from imblearn.over_sampling import SMOTE\n",
    "\n",
    "import json"
   ]
  },
  {
   "cell_type": "markdown",
   "id": "0c426501",
   "metadata": {},
   "source": [
    "## 2. Data Loading\n",
    "\n",
    "Load the dataset."
   ]
  },
  {
   "cell_type": "code",
   "execution_count": 2,
   "id": "a69ca1fc",
   "metadata": {},
   "outputs": [],
   "source": [
    "def load_data(file_path):\n",
    "    \"\"\"\n",
    "    Load the synthetic health data from a CSV file.\n",
    "    \n",
    "    Args:\n",
    "        file_path: Path to the CSV file\n",
    "        \n",
    "    Returns:\n",
    "        DataFrame containing the data\n",
    "    \"\"\"\n",
    "\n",
    "    df = pd.read_csv(file_path)\n",
    "    \n",
    "    return df"
   ]
  },
  {
   "cell_type": "markdown",
   "id": "21be6b1c",
   "metadata": {},
   "source": [
    "## 3. Categorical Feature Encoding\n",
    "\n",
    "Implement `encode_categorical_features` using `OneHotEncoder`."
   ]
  },
  {
   "cell_type": "code",
   "execution_count": 3,
   "id": "088faed6",
   "metadata": {},
   "outputs": [],
   "source": [
    "def encode_categorical_features(df, column_to_encode='smoker_status'):\n",
    "    \"\"\"\n",
    "    Encode a categorical column using OneHotEncoder.\n",
    "    \n",
    "    Args:\n",
    "        df: Input DataFrame\n",
    "        column_to_encode: Name of the categorical column to encode\n",
    "        \n",
    "    Returns:\n",
    "        DataFrame with the categorical column replaced by one-hot encoded columns\n",
    "    \"\"\"\n",
    "    # YOUR CODE HERE\n",
    "    # 1. Extract the categorical column\n",
    "    cat_col = pd.DataFrame(df[column_to_encode])\n",
    "\n",
    "    # 2. Apply OneHotEncoder\n",
    "    transform = OneHotEncoder()\n",
    "    encoded = transform.fit_transform(cat_col)\n",
    "    encoded = pd.DataFrame(encoded.toarray())\n",
    "\n",
    "    # 3. Create new column names\n",
    "    encoded.columns = transform.get_feature_names_out()\n",
    "\n",
    "    # 4. Replace the original categorical column with the encoded columns\n",
    "    df_new = pd.concat([df, encoded], axis=1).drop(columns=column_to_encode)\n",
    "    \n",
    "    # Placeholder return - replace with your implementation\n",
    "    return df_new"
   ]
  },
  {
   "cell_type": "markdown",
   "id": "f99bcabd",
   "metadata": {},
   "source": [
    "## 4. Data Preparation\n",
    "\n",
    "Implement `prepare_data_part3` to handle the train/test split correctly."
   ]
  },
  {
   "cell_type": "code",
   "execution_count": null,
   "id": "548bde20",
   "metadata": {},
   "outputs": [],
   "source": [
    "def prepare_data_part3(df, test_size=0.2, random_state=42):\n",
    "    \"\"\"\n",
    "    Prepare data with categorical encoding.\n",
    "    \n",
    "    Args:\n",
    "        df: Input DataFrame\n",
    "        test_size: Proportion of data for testing\n",
    "        random_state: Random seed for reproducibility\n",
    "        \n",
    "    Returns:\n",
    "        X_train, X_test, y_train, y_test\n",
    "    \"\"\"\n",
    "    # debugging for github test\n",
    "    placeholder = None\n",
    "\n",
    "    # YOUR CODE HERE\n",
    "    # 1. Encode categorical features using the encode_categorical_features function\n",
    "    df = encode_categorical_features(df)\n",
    "\n",
    "    # 2. Select relevant features (including the one-hot encoded ones) and the target\n",
    "    x = df[['smoker_status_former', 'smoker_status_no','smoker_status_yes']]\n",
    "    y = df['disease_outcome']\n",
    "\n",
    "    # 3. Split data into training and testing sets\n",
    "    x_train, x_test, y_train, y_test = train_test_split(x, y, test_size=test_size, random_state=random_state, shuffle=True)\n",
    "    \n",
    "    # Placeholder return - replace with your implementation\n",
    "    return x_train, x_test, y_train, y_test, placeholder"
   ]
  },
  {
   "cell_type": "markdown",
   "id": "2db94de6",
   "metadata": {},
   "source": [
    "## 5. Handling Imbalanced Data\n",
    "\n",
    "Implement `apply_smote` to oversample the minority class."
   ]
  },
  {
   "cell_type": "code",
   "execution_count": 5,
   "id": "6ea31bed",
   "metadata": {},
   "outputs": [],
   "source": [
    "def apply_smote(X_train, y_train, random_state=42):\n",
    "    \"\"\"\n",
    "    Apply SMOTE to oversample the minority class.\n",
    "    \n",
    "    Args:\n",
    "        X_train: Training features\n",
    "        y_train: Training target\n",
    "        random_state: Random seed for reproducibility\n",
    "        \n",
    "    Returns:\n",
    "        Resampled X_train and y_train with balanced classes\n",
    "    \"\"\"\n",
    "    # YOUR CODE HERE\n",
    "    # Apply SMOTE to balance the classes\n",
    "    smote = SMOTE(random_state=random_state)\n",
    "    x_resample, y_resample = smote.fit_resample(X_train, y_train)\n",
    "    \n",
    "    # Placeholder return - replace with your implementation\n",
    "    return x_resample, y_resample"
   ]
  },
  {
   "cell_type": "markdown",
   "id": "7d178407",
   "metadata": {},
   "source": [
    "## 6. Model Training and Evaluation\n",
    "\n",
    "Train a model on the SMOTE-resampled data and evaluate it."
   ]
  },
  {
   "cell_type": "code",
   "execution_count": 6,
   "id": "d5fe4258",
   "metadata": {},
   "outputs": [],
   "source": [
    "def train_logistic_regression(X_train, y_train):\n",
    "    \"\"\"\n",
    "    Train a logistic regression model.\n",
    "    \n",
    "    Args:\n",
    "        X_train: Training features\n",
    "        y_train: Training target\n",
    "        \n",
    "    Returns:\n",
    "        Trained logistic regression model\n",
    "    \"\"\"\n",
    "    # YOUR CODE HERE\n",
    "    # Initialize and train a LogisticRegression model\n",
    "    logreg = LogisticRegression()\n",
    "    model = logreg.fit(X_train, y_train)\n",
    "    \n",
    "    return model\n",
    "\n",
    "def calculate_evaluation_metrics(model, X_test, y_test):\n",
    "    \"\"\"\n",
    "    Calculate classification evaluation metrics.\n",
    "    \n",
    "    Args:\n",
    "        model: Trained model\n",
    "        X_test: Test features\n",
    "        y_test: Test target\n",
    "        \n",
    "    Returns:\n",
    "        Dictionary containing accuracy, precision, recall, f1, auc, and confusion_matrix\n",
    "    \"\"\"\n",
    "    # YOUR CODE HERE\n",
    "    # 2. Calculate metrics: accuracy, precision, recall, f1, auc\n",
    "    # 3. Create confusion matrix\n",
    "    # 4. Return metrics in a dictionary\n",
    "\n",
    "    # Generate predictions\n",
    "    y_predict = model.predict(X_test)\n",
    "\n",
    "    # Calculate metrics: accuracy, precision, recall, f1, auc\n",
    "    acc = accuracy_score(y_test, y_predict)\n",
    "    prec = precision_score(y_test, y_predict)\n",
    "    rec = recall_score(y_test, y_predict)\n",
    "    f1 = f1_score(y_test, y_predict)\n",
    "    auc = roc_auc_score(y_test, y_predict)\n",
    "\n",
    "    # Create confusion matrix\n",
    "    conf_matrix = confusion_matrix(y_test, y_predict)\n",
    "    \n",
    "    # Placeholder return - replace with your implementation\n",
    "    return {'accuracy':acc, 'precision':prec, 'recall':rec, 'f1':f1, 'auc':auc, 'confusion_matrix':conf_matrix}"
   ]
  },
  {
   "cell_type": "markdown",
   "id": "60489da5",
   "metadata": {},
   "source": [
    "## 7. Save Results\n",
    "\n",
    "Save the evaluation metrics to a text file."
   ]
  },
  {
   "cell_type": "code",
   "execution_count": 7,
   "id": "94c95449",
   "metadata": {},
   "outputs": [],
   "source": [
    "def save_results(result):\n",
    "    # Create results directory and save metrics\n",
    "    # YOUR CODE HERE\n",
    "    # 1. Create 'results' directory if it doesn't exist\n",
    "    os.makedirs('results', exist_ok=True)\n",
    "\n",
    "    # 2. Format metrics as strings\n",
    "    # 3. Write metrics to 'results/results_part1.txt'\n",
    "    export_dict = result.copy()\n",
    "    del export_dict['confusion_matrix']\n",
    "\n",
    "    with open('results/results_part3.txt', 'w') as file:\n",
    "        for key, value in export_dict.items():\n",
    "            file.write(f'{key}: {value}\\n')"
   ]
  },
  {
   "cell_type": "markdown",
   "id": "84a1e19c",
   "metadata": {},
   "source": [
    "## 8. Compare Results\n",
    "\n",
    "Implement a function to compare model performance between balanced and imbalanced data."
   ]
  },
  {
   "cell_type": "code",
   "execution_count": 8,
   "id": "13b753db",
   "metadata": {},
   "outputs": [],
   "source": [
    "def compare_models(part1_metrics, part3_metrics):\n",
    "    \"\"\"\n",
    "    Calculate percentage improvement between models trained on imbalanced vs. balanced data.\n",
    "    \n",
    "    Args:\n",
    "        part1_metrics: Dictionary containing evaluation metrics from Part 1 (imbalanced)\n",
    "        part3_metrics: Dictionary containing evaluation metrics from Part 3 (balanced)\n",
    "        \n",
    "    Returns:\n",
    "        Dictionary with metric names as keys and improvement percentages as values\n",
    "    \"\"\"\n",
    "    # YOUR CODE HERE\n",
    "    part1 = part1_metrics\n",
    "    part3 = part3_metrics.copy()\n",
    "    del part3['confusion_matrix']\n",
    "\n",
    "    # 1. Calculate percentage improvement for each metric\n",
    "    # 2. Handle metrics where higher is better (most metrics) and where lower is better\n",
    "    # 3. Return a dictionary with metric names and improvement percentages\n",
    "    output = {key: 100*part3[key]/part1[key]-100 for key in part3}\n",
    "\n",
    "    # Placeholder return - replace with your implementation\n",
    "    return output"
   ]
  },
  {
   "cell_type": "markdown",
   "id": "f84d241d",
   "metadata": {},
   "source": [
    "## 9. Main Execution\n",
    "\n",
    "Run the complete workflow."
   ]
  },
  {
   "cell_type": "code",
   "execution_count": null,
   "id": "198c2274",
   "metadata": {},
   "outputs": [
    {
     "name": "stdout",
     "output_type": "stream",
     "text": [
      "accuracy: 0.5989\n",
      "precision: 0.1496\n",
      "recall: 0.6643\n",
      "f1: 0.2442\n",
      "auc: 0.6281\n",
      "[[783 540]\n",
      " [ 48  95]]\n",
      "\n",
      "Model Comparison (improvement percentages):\n",
      "accuracy: -34.67%\n",
      "precision: -77.39%\n",
      "recall: 120.93%\n",
      "f1: -40.93%\n",
      "auc: -2.17%\n"
     ]
    }
   ],
   "source": [
    "if __name__ == \"__main__\":\n",
    "    # 1. Load data\n",
    "    data_file = 'data/synthetic_health_data.csv'\n",
    "    df = load_data(data_file)\n",
    "    \n",
    "    # 2. Prepare data with categorical encoding\n",
    "    X_train, X_test, y_train, y_test, _ = prepare_data_part3(df)\n",
    "    \n",
    "    # 3. Apply SMOTE to balance the training data\n",
    "    X_train_resampled, y_train_resampled = apply_smote(X_train, y_train)\n",
    "    \n",
    "    # 4. Train model on resampled data\n",
    "    model = train_logistic_regression(X_train_resampled, y_train_resampled)\n",
    "    \n",
    "    # 5. Evaluate on original test set\n",
    "    metrics = calculate_evaluation_metrics(model, X_test, y_test)\n",
    "    \n",
    "    # 6. Print metrics\n",
    "    for metric, value in metrics.items():\n",
    "        if metric != 'confusion_matrix':\n",
    "            print(f\"{metric}: {value:.4f}\")\n",
    "    print(metrics['confusion_matrix'])\n",
    "    \n",
    "    # 7. Save results\n",
    "    save_results(metrics)\n",
    "    \n",
    "    # 8. Load Part 1 results for comparison\n",
    "    import json\n",
    "    part1_metrics = {}\n",
    "    try:\n",
    "        with open('results/results_part1.txt', 'r') as f:\n",
    "            for line in f:\n",
    "                key, value = line.strip().split(': ')\n",
    "                part1_metrics[key] = float(value)\n",
    "        \n",
    "        # 9. Compare models\n",
    "        comparison = compare_models(part1_metrics, metrics)\n",
    "        print(\"\\nModel Comparison (improvement percentages):\")\n",
    "        for metric, improvement in comparison.items():\n",
    "            print(f\"{metric}: {improvement:.2f}%\")\n",
    "    except FileNotFoundError:\n",
    "        print(\"Part 1 results not found. Run part1_introduction.ipynb first.\")"
   ]
  }
 ],
 "metadata": {
  "kernelspec": {
   "display_name": ".venv",
   "language": "python",
   "name": "python3"
  },
  "language_info": {
   "codemirror_mode": {
    "name": "ipython",
    "version": 3
   },
   "file_extension": ".py",
   "mimetype": "text/x-python",
   "name": "python",
   "nbconvert_exporter": "python",
   "pygments_lexer": "ipython3",
   "version": "3.10.12"
  }
 },
 "nbformat": 4,
 "nbformat_minor": 5
}
